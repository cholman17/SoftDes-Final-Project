{
 "cells": [
  {
   "cell_type": "code",
   "execution_count": 9,
   "metadata": {
    "collapsed": false
   },
   "outputs": [
    {
     "name": "stdout",
     "output_type": "stream",
     "text": [
      "please enter your classes taken by course code separated by a space ex: 'FME1000 FME1001 ECN2000'FME1000\n",
      "[['FME1001'], ['ACC1000'], ['LAW1000'], ['QTM1000'], ['QTM1010'], ['RHT1000'], ['RHT1010'], ['AHS1000'], ['NST10??'], ['FYS1000'], ['SME2001'], ['SME2002'], ['SME2011'], ['SME2012'], ['SME2021'], ['SME2031'], ['SME2041'], ['ECN2000'], ['HSS20??'], ['CVA20??'], ['LVA20??'], ['HSS20??', 'CVA20??', 'LVA20??'], ['NST20??', 'QTM2000'], ['ASM3300'], ['???46??'], ['????6??'], ['????6??'], ['????6??'], ['????5??', '????6??'], ['????5??', '????6??'], ['????5??', '????6??'], ['????5??', '????6??'], ['????5??', '????6??', '????1??', '????2??'], ['????5??', '????6??', '????1??', '????2??'], ['????5??', '????6??', '????1??', '????2??']]\n"
     ]
    }
   ],
   "source": [
    "import fnmatch\n",
    "response = raw_input(\"please enter your classes taken by course code separated by a space ex: 'FME1000 FME1001 ECN2000'\")\n",
    "\n",
    "req = []\n",
    "f = open('babson_requirements.csv')\n",
    "for line in f:\n",
    "    line = line.split()\n",
    "    req.append(line)\n",
    "\n",
    "def audit():\n",
    "    remaining = []\n",
    "    classes = response.split()\n",
    "    have = classes\n",
    "    needed = req\n",
    "\n",
    "    for code_lst in needed:\n",
    "        is_present = False\n",
    "        for requirement in code_lst:\n",
    "            if requirement in have or fnmatch.filter(have, requirement):\n",
    "                is_present = True\n",
    "\n",
    "                for i in range(len(have)):\n",
    "                    if [have[i]] == (fnmatch.filter([have[i]], requirement)):\n",
    "                        have = have[:i]+ have[i+1:]\n",
    "                        break\n",
    "                    break\n",
    "        if is_present == False:\n",
    "            remaining.append(code_lst)\n",
    "\n",
    "    print remaining\n",
    "\n",
    "\n",
    "audit()\n"
   ]
  },
  {
   "cell_type": "code",
   "execution_count": null,
   "metadata": {
    "collapsed": true
   },
   "outputs": [],
   "source": []
  }
 ],
 "metadata": {
  "kernelspec": {
   "display_name": "Python 2",
   "language": "python",
   "name": "python2"
  },
  "language_info": {
   "codemirror_mode": {
    "name": "ipython",
    "version": 2
   },
   "file_extension": ".py",
   "mimetype": "text/x-python",
   "name": "python",
   "nbconvert_exporter": "python",
   "pygments_lexer": "ipython2",
   "version": "2.7.6"
  }
 },
 "nbformat": 4,
 "nbformat_minor": 1
}
