{
 "cells": [
  {
   "cell_type": "code",
   "execution_count": 97,
   "metadata": {
    "collapsed": false
   },
   "outputs": [
    {
     "name": "stdout",
     "output_type": "stream",
     "text": [
      "[['FME1000'], ['FME1001'], ['ACC1000'], ['LAW1000'], ['QTM1000'], ['QTM1010'], ['RHT1000'], ['RHT1010'], ['AHS1000'], ['NST10??'], ['FYS1000'], ['SME2001'], ['SME2002'], ['SME2011'], ['SME2012'], ['SME2021'], ['SME2031'], ['SME2041'], ['ECN2000'], ['HSS20??'], ['CVA20??'], ['LVA20??'], ['HSS20??', 'CVA20??', 'LVA20??'], ['NST20??', 'QTM2000'], ['ASM3300'], ['???46??'], ['????6??'], ['????6??'], ['????6??'], ['????5??', '????6??'], ['????5??', '????6??'], ['????5??', '????6??'], ['????5??', '????6??'], ['????5??', '????6??', '????1??', '????2??'], ['????5??', '????6??', '????1??', '????2??'], ['????5??', '????6??', '????1??', '????2??']]\n"
     ]
    }
   ],
   "source": [
    "f = open('babson_requirements.csv')\n",
    "\n",
    "req = []\n",
    "for line in f:\n",
    "    line = line.split()\n",
    "    req.append(line)\n",
    "    return req\n",
    "    "
   ]
  },
  {
   "cell_type": "code",
   "execution_count": 90,
   "metadata": {
    "collapsed": false,
    "scrolled": true
   },
   "outputs": [
    {
     "name": "stdout",
     "output_type": "stream",
     "text": [
      "please enter your classes taken by course code separated by a space ex: 'FME1000 FME1001 ECN2000'FME1000 CVA2001\n"
     ]
    }
   ],
   "source": [
    "responce = raw_input(\"please enter your classes taken by course code separated by a space ex: 'FME1000 FME1001 ECN2000'\")"
   ]
  },
  {
   "cell_type": "code",
   "execution_count": 91,
   "metadata": {
    "collapsed": false
   },
   "outputs": [],
   "source": [
    "classes = responce.split()"
   ]
  },
  {
   "cell_type": "code",
   "execution_count": 120,
   "metadata": {
    "collapsed": false
   },
   "outputs": [
    {
     "name": "stdout",
     "output_type": "stream",
     "text": [
      "['FME1000', 'CVA2001']\n"
     ]
    }
   ],
   "source": [
    "print classes"
   ]
  },
  {
   "cell_type": "code",
   "execution_count": 121,
   "metadata": {
    "collapsed": false
   },
   "outputs": [],
   "source": [
    "import fnmatch\n",
    "\n",
    "lst = classes\n",
    "a = req\n",
    "remaining = []\n",
    "\n",
    "for i in a:\n",
    "    for requirement in i:\n",
    "        if requirement not in lst:\n",
    "            remaining.append(i)\n",
    "        elif fnmatch.filter(lst, requirement):\n",
    "            remaining.append(i)"
   ]
  },
  {
   "cell_type": "code",
   "execution_count": 145,
   "metadata": {
    "collapsed": false
   },
   "outputs": [],
   "source": [
    "import fnmatch\n",
    "\n",
    "have = classes\n",
    "needed = req\n",
    "remaining = []\n",
    "\n",
    "for code_lst in needed:\n",
    "    is_present = False\n",
    "    for requirement in code_lst:\n",
    "        if requirement in have or fnmatch.filter(have, requirement):\n",
    "            is_present = True\n",
    "            for i in range(len(have)):\n",
    "                if have[i] == (fnmatch.filter(have, requirement)):\n",
    "                    have = have[:i]+ have[i+1:]\n",
    "                    break\n",
    "                break\n",
    "    if is_present == False:\n",
    "        remaining.append(code_lst)"
   ]
  },
  {
   "cell_type": "code",
   "execution_count": 146,
   "metadata": {
    "collapsed": false
   },
   "outputs": [
    {
     "name": "stdout",
     "output_type": "stream",
     "text": [
      "[['FME1001'], ['ACC1000'], ['LAW1000'], ['QTM1000'], ['QTM1010'], ['RHT1000'], ['RHT1010'], ['AHS1000'], ['NST10??'], ['FYS1000'], ['SME2001'], ['SME2002'], ['SME2011'], ['SME2012'], ['SME2021'], ['SME2031'], ['SME2041'], ['ECN2000'], ['HSS20??'], ['LVA20??'], ['NST20??', 'QTM2000'], ['ASM3300'], ['???46??'], ['????6??'], ['????6??'], ['????6??'], ['????5??', '????6??'], ['????5??', '????6??'], ['????5??', '????6??'], ['????5??', '????6??'], ['????5??', '????6??', '????1??', '????2??'], ['????5??', '????6??', '????1??', '????2??'], ['????5??', '????6??', '????1??', '????2??']]\n"
     ]
    }
   ],
   "source": [
    "print remaining"
   ]
  },
  {
   "cell_type": "code",
   "execution_count": null,
   "metadata": {
    "collapsed": true
   },
   "outputs": [],
   "source": []
  }
 ],
 "metadata": {
  "kernelspec": {
   "display_name": "Python 2",
   "language": "python",
   "name": "python2"
  },
  "language_info": {
   "codemirror_mode": {
    "name": "ipython",
    "version": 2
   },
   "file_extension": ".py",
   "mimetype": "text/x-python",
   "name": "python",
   "nbconvert_exporter": "python",
   "pygments_lexer": "ipython2",
   "version": "2.7.6"
  }
 },
 "nbformat": 4,
 "nbformat_minor": 1
}
