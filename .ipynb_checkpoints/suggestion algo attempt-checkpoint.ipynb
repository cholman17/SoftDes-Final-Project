{
 "cells": [
  {
   "cell_type": "code",
   "execution_count": 1,
   "metadata": {
    "collapsed": false
   },
   "outputs": [
    {
     "name": "stdout",
     "output_type": "stream",
     "text": [
      "['\"FME1000\"']\n",
      "['\"FME1001\"']\n",
      "['\"ACC1000\"']\n",
      "['\"LAW1000\"']\n",
      "['\"QTM1000\"']\n",
      "['\"QTM1010\"']\n",
      "['\"RHT1000\"']\n",
      "['\"RHT1010\"']\n",
      "['\"AHS1000\"']\n",
      "['\"NST10%%\"']\n",
      "['\"FYS1000\"']\n",
      "['\"SME2001\"']\n",
      "['\"SME2002\"']\n",
      "['\"SME2011\"']\n",
      "['\"SME2012\"']\n",
      "['\"SME2021\"']\n",
      "['\"SME2031\"']\n",
      "['\"SME2041\"']\n",
      "['\"ECN2000\"']\n",
      "['\"HSS20%%\"']\n",
      "['\"CVA20%%\"']\n",
      "['\"LVA20%%\"']\n",
      "['\"HSS20%%', 'OR', 'CVA20%%', 'OR', 'LVA20%%\"']\n",
      "['\"NST20%%', 'OR', 'QTM2000\"']\n",
      "['\"ASM3300\"']\n",
      "['\"%%%46%%%\"']\n",
      "['\"%%%%5%%', 'OR', '%%%%6%%\"']\n",
      "['\"%%%%5%%', 'OR', '%%%%6%%\"']\n",
      "['\"%%%%5%%', 'OR', '%%%%6%%\"']\n",
      "['\"%%%%5%%', 'OR', '%%%%6%%\"']\n",
      "['\"%%%%5%%', 'OR', '%%%%6%%,', '%%%%1%%', 'OR', '%%%%2%%\"']\n",
      "['\"%%%%5%%', 'OR', '%%%%6%%,', '%%%%1%%', 'OR', '%%%%2%%\"']\n",
      "['\"%%%%5%%', 'OR', '%%%%6%%,', '%%%%1%%', 'OR', '%%%%2%%\"']\n",
      "['\"%%%%6%%\"']\n",
      "['\"%%%%6%%\"']\n",
      "['\"%%%%6%%\"']\n"
     ]
    }
   ],
   "source": [
    "f = open('Babson Requirements.csv')\n",
    "\n",
    "for line in f:\n",
    "    line = line.strip(\"'OR'\").split()\n",
    "    print line"
   ]
  },
  {
   "cell_type": "code",
   "execution_count": null,
   "metadata": {
    "collapsed": true
   },
   "outputs": [],
   "source": [
    "def find_day_with_smallest_spread():\n",
    "    mini = 100\n",
    "    mini_index = None \n",
    "    linenum = 0\n",
    "    for line in f:\n",
    "        linenum = linenum + 1 \n",
    "        linenum , line.split()\n",
    "        if linenum >=3 and len(line.split())>7:\n",
    "            x = float(float(line.split()[1].strip(\"*\")) - float(line.split()[2].strip(\"*\")))\n",
    "            if x < mini:\n",
    "                mini_index = line.split()[0]\n",
    "                mini = x\n",
    "    print mini_index , mini"
   ]
  }
 ],
 "metadata": {
  "kernelspec": {
   "display_name": "Python 2",
   "language": "python",
   "name": "python2"
  },
  "language_info": {
   "codemirror_mode": {
    "name": "ipython",
    "version": 2
   },
   "file_extension": ".py",
   "mimetype": "text/x-python",
   "name": "python",
   "nbconvert_exporter": "python",
   "pygments_lexer": "ipython2",
   "version": "2.7.6"
  }
 },
 "nbformat": 4,
 "nbformat_minor": 1
}
