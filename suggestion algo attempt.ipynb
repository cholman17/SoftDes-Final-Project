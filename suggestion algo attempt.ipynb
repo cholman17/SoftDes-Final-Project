{
 "cells": [
  {
   "cell_type": "code",
   "execution_count": 76,
   "metadata": {
    "collapsed": false
   },
   "outputs": [
    {
     "name": "stdout",
     "output_type": "stream",
     "text": [
      "1 ['FME1000']\n",
      "2 ['FME1001']\n",
      "3 ['ACC1000']\n",
      "4 ['LAW1000']\n",
      "5 ['QTM1000']\n",
      "6 ['QTM1010']\n",
      "7 ['RHT1000']\n",
      "8 ['RHT1010']\n",
      "9 ['AHS1000']\n",
      "10 ['NST10??']\n",
      "11 ['FYS1000']\n",
      "12 ['SME2001']\n",
      "13 ['SME2002']\n",
      "14 ['SME2011']\n",
      "15 ['SME2012']\n",
      "16 ['SME2021']\n",
      "17 ['SME2031']\n",
      "18 ['SME2041']\n",
      "19 ['ECN2000']\n",
      "20 ['HSS20??']\n",
      "21 ['CVA20??']\n",
      "22 ['LVA20??']\n",
      "23 ['HSS20??', 'CVA20??', 'LVA20??']\n",
      "24 ['NST20??', 'QTM2000']\n",
      "25 ['ASM3300']\n",
      "26 ['???46??']\n",
      "27 ['????5??', '????6??']\n",
      "28 ['????5??', '????6??']\n",
      "29 ['????5??', '????6??']\n",
      "30 ['????5??', '????6??']\n",
      "31 ['????5??', '????6??', '????1??', '????2??']\n",
      "32 ['????5??', '????6??', '????1??', '????2??']\n",
      "33 ['????5??', '????6??', '????1??', '????2??']\n",
      "34 ['????6??']\n",
      "35 ['????6??']\n",
      "36 ['????6??']\n"
     ]
    }
   ],
   "source": [
    "f = open('babson_requirements.csv')\n",
    "\n",
    "linenum = 0\n",
    "for line in f:\n",
    "    linenum = linenum + 1\n",
    "    line = line.split()\n",
    "    print linenum, line"
   ]
  },
  {
   "cell_type": "code",
   "execution_count": 90,
   "metadata": {
    "collapsed": false,
    "scrolled": true
   },
   "outputs": [
    {
     "name": "stdout",
     "output_type": "stream",
     "text": [
      "please enter your classes taken by course code separated by a space ex: 'FME1000 FME1001 ECN2000'FME1000 CVA2001\n"
     ]
    }
   ],
   "source": [
    "responce = raw_input(\"please enter your classes taken by course code separated by a space ex: 'FME1000 FME1001 ECN2000'\")"
   ]
  },
  {
   "cell_type": "code",
   "execution_count": 91,
   "metadata": {
    "collapsed": false
   },
   "outputs": [],
   "source": [
    "classes = responce.split()"
   ]
  },
  {
   "cell_type": "code",
   "execution_count": 92,
   "metadata": {
    "collapsed": false
   },
   "outputs": [
    {
     "name": "stdout",
     "output_type": "stream",
     "text": [
      "['FME1000', 'CVA2001']\n"
     ]
    }
   ],
   "source": [
    "print classes"
   ]
  },
  {
   "cell_type": "code",
   "execution_count": 93,
   "metadata": {
    "collapsed": false
   },
   "outputs": [
    {
     "name": "stdout",
     "output_type": "stream",
     "text": [
      "FME1000\n"
     ]
    }
   ],
   "source": [
    "print classes[0]"
   ]
  },
  {
   "cell_type": "code",
   "execution_count": 89,
   "metadata": {
    "collapsed": false
   },
   "outputs": [
    {
     "name": "stdout",
     "output_type": "stream",
     "text": [
      "LVA20?? NEEDED\n"
     ]
    }
   ],
   "source": [
    "import fnmatch\n",
    "lst = classes\n",
    "a = 'LVA20??'\n",
    "filtered = fnmatch.filter(lst, a)\n",
    "if not filtered:\n",
    "    print a, 'NEEDED'\n",
    "else:\n",
    "    print 'done'"
   ]
  },
  {
   "cell_type": "code",
   "execution_count": null,
   "metadata": {
    "collapsed": true
   },
   "outputs": [],
   "source": []
  }
 ],
 "metadata": {
  "kernelspec": {
   "display_name": "Python 2",
   "language": "python",
   "name": "python2"
  },
  "language_info": {
   "codemirror_mode": {
    "name": "ipython",
    "version": 2
   },
   "file_extension": ".py",
   "mimetype": "text/x-python",
   "name": "python",
   "nbconvert_exporter": "python",
   "pygments_lexer": "ipython2",
   "version": "2.7.6"
  }
 },
 "nbformat": 4,
 "nbformat_minor": 1
}
