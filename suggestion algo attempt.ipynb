{
 "cells": [
  {
   "cell_type": "code",
   "execution_count": 47,
   "metadata": {
    "collapsed": false
   },
   "outputs": [
    {
     "name": "stdout",
     "output_type": "stream",
     "text": [
      "1 ['FME1000']\n",
      "2 ['FME1001']\n",
      "3 ['ACC1000']\n",
      "4 ['LAW1000']\n",
      "5 ['QTM1000']\n",
      "6 ['QTM1010']\n",
      "7 ['RHT1000']\n",
      "8 ['RHT1010']\n",
      "9 ['AHS1000']\n",
      "10 ['NST10%%']\n",
      "11 ['FYS1000']\n",
      "12 ['SME2001']\n",
      "13 ['SME2002']\n",
      "14 ['SME2011']\n",
      "15 ['SME2012']\n",
      "16 ['SME2021']\n",
      "17 ['SME2031']\n",
      "18 ['SME2041']\n",
      "19 ['ECN2000']\n",
      "20 ['HSS20%%']\n",
      "21 ['CVA20%%']\n",
      "22 ['LVA20%%']\n",
      "23 ['HSS20%%', 'CVA20%%', 'LVA20%%']\n",
      "24 ['NST20%%', 'QTM2000']\n",
      "25 ['ASM3300']\n",
      "26 ['%%%46%%%']\n",
      "27 ['%%%%5%%', '%%%%6%%']\n",
      "28 ['%%%%5%%', '%%%%6%%']\n",
      "29 ['%%%%5%%', '%%%%6%%']\n",
      "30 ['%%%%5%%', '%%%%6%%']\n",
      "31 ['%%%%5%%', '%%%%6%%', '%%%%1%%', '%%%%2%%']\n",
      "32 ['%%%%5%%', '%%%%6%%', '%%%%1%%', '%%%%2%%']\n",
      "33 ['%%%%5%%', '%%%%6%%', '%%%%1%%', '%%%%2%%']\n",
      "34 ['%%%%6%%']\n",
      "35 ['%%%%6%%']\n",
      "36 ['%%%%6%%']\n"
     ]
    }
   ],
   "source": [
    "f = open('babson_requirements.csv')\n",
    "\n",
    "linenum = 0\n",
    "for line in f:\n",
    "    linenum = linenum + 1\n",
    "    line = line.split()\n",
    "    print linenum, line"
   ]
  },
  {
   "cell_type": "code",
   "execution_count": 15,
   "metadata": {
    "collapsed": false,
    "scrolled": true
   },
   "outputs": [
    {
     "name": "stdout",
     "output_type": "stream",
     "text": [
      "please enter your classes taken by course code separated by a space ex: 'FME1000 FME1001 ECN2000'RHT1000 RHT1010 QTM2000\n"
     ]
    }
   ],
   "source": [
    "responce = raw_input(\"please enter your classes taken by course code separated by a space ex: 'FME1000 FME1001 ECN2000'\")"
   ]
  },
  {
   "cell_type": "code",
   "execution_count": 18,
   "metadata": {
    "collapsed": false
   },
   "outputs": [],
   "source": [
    "classes = responce.split()"
   ]
  },
  {
   "cell_type": "code",
   "execution_count": 24,
   "metadata": {
    "collapsed": false
   },
   "outputs": [
    {
     "name": "stdout",
     "output_type": "stream",
     "text": [
      "['RHT1000', 'RHT1010', 'QTM2000']\n"
     ]
    }
   ],
   "source": [
    "print classes"
   ]
  },
  {
   "cell_type": "code",
   "execution_count": 75,
   "metadata": {
    "collapsed": false
   },
   "outputs": [
    {
     "name": "stdout",
     "output_type": "stream",
     "text": [
      "done\n"
     ]
    }
   ],
   "source": [
    "import fnmatch\n",
    "lst = ['QTM1010', 'RHT1000', 'LVA2007']\n",
    "a = 'LVA20??'\n",
    "filtered = fnmatch.filter(lst, a)\n",
    "if not filtered:\n",
    "    print a, 'NEEDED'\n",
    "else:\n",
    "    print 'done'"
   ]
  },
  {
   "cell_type": "code",
   "execution_count": 35,
   "metadata": {
    "collapsed": false
   },
   "outputs": [
    {
     "ename": "ValueError",
     "evalue": "invalid literal for int() with base 10: 'RHT1000'",
     "output_type": "error",
     "traceback": [
      "\u001b[0;31m---------------------------------------------------------------------------\u001b[0m",
      "\u001b[0;31mValueError\u001b[0m                                Traceback (most recent call last)",
      "\u001b[0;32m<ipython-input-35-10a1278ba44d>\u001b[0m in \u001b[0;36m<module>\u001b[0;34m()\u001b[0m\n\u001b[1;32m      1\u001b[0m \u001b[0mindex\u001b[0m \u001b[0;34m=\u001b[0m \u001b[0;34m-\u001b[0m\u001b[0;36m1\u001b[0m\u001b[0;34m\u001b[0m\u001b[0m\n\u001b[1;32m      2\u001b[0m \u001b[0;32mfor\u001b[0m \u001b[0mindex\u001b[0m \u001b[0;32min\u001b[0m \u001b[0mclasses\u001b[0m\u001b[0;34m:\u001b[0m\u001b[0;34m\u001b[0m\u001b[0m\n\u001b[0;32m----> 3\u001b[0;31m     \u001b[0mindex\u001b[0m \u001b[0;34m=\u001b[0m \u001b[0mint\u001b[0m\u001b[0;34m(\u001b[0m\u001b[0mindex\u001b[0m\u001b[0;34m)\u001b[0m \u001b[0;34m+\u001b[0m \u001b[0;36m1\u001b[0m\u001b[0;34m\u001b[0m\u001b[0m\n\u001b[0m\u001b[1;32m      4\u001b[0m     \u001b[0;32mif\u001b[0m \u001b[0mindex\u001b[0m \u001b[0;34m<=\u001b[0m \u001b[0mlen\u001b[0m\u001b[0;34m(\u001b[0m\u001b[0mclasses\u001b[0m\u001b[0;34m)\u001b[0m\u001b[0;34m:\u001b[0m\u001b[0;34m\u001b[0m\u001b[0m\n\u001b[1;32m      5\u001b[0m         \u001b[0;32mprint\u001b[0m \u001b[0mindex\u001b[0m\u001b[0;34m\u001b[0m\u001b[0m\n",
      "\u001b[0;31mValueError\u001b[0m: invalid literal for int() with base 10: 'RHT1000'"
     ]
    }
   ],
   "source": [
    "i = -1\n",
    "for index in classes:\n",
    "    i = i + 1\n",
    "    if index <= len(classes):\n",
    "        print index\n",
    "    "
   ]
  },
  {
   "cell_type": "code",
   "execution_count": null,
   "metadata": {
    "collapsed": true
   },
   "outputs": [],
   "source": [
    "def find_day_with_smallest_spread():\n",
    "    mini = 100\n",
    "    mini_index = None \n",
    "    linenum = 0\n",
    "    for line in f:\n",
    "        linenum = linenum + 1 \n",
    "        linenum , line.split()\n",
    "        if linenum >=3 and len(line.split())>7:\n",
    "            x = float(float(line.split()[1].strip(\"*\")) - float(line.split()[2].strip(\"*\")))\n",
    "            if x < mini:\n",
    "                mini_index = line.split()[0]\n",
    "                mini = x\n",
    "    print mini_index , mini"
   ]
  }
 ],
 "metadata": {
  "kernelspec": {
   "display_name": "Python 2",
   "language": "python",
   "name": "python2"
  },
  "language_info": {
   "codemirror_mode": {
    "name": "ipython",
    "version": 2
   },
   "file_extension": ".py",
   "mimetype": "text/x-python",
   "name": "python",
   "nbconvert_exporter": "python",
   "pygments_lexer": "ipython2",
   "version": "2.7.6"
  }
 },
 "nbformat": 4,
 "nbformat_minor": 1
}
